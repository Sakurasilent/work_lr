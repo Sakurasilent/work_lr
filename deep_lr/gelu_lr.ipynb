{
 "cells": [
  {
   "cell_type": "code",
   "execution_count": 5,
   "metadata": {},
   "outputs": [
    {
     "name": "stdout",
     "output_type": "stream",
     "text": [
      "tensor([0.6412, 0.8757, 0.1623, 0.6661, 0.2307, 0.7535, 0.7565, 0.2109, 0.0122,\n",
      "        0.4969])\n",
      "tensor([0.4741, 0.7088, 0.0916, 0.4978, 0.1364, 0.5835, 0.5865, 0.1230, 0.0061,\n",
      "        0.3431])\n"
     ]
    }
   ],
   "source": [
    "import torch.nn as nn \n",
    "import torch\n",
    "\n",
    "GELU = nn.GELU()\n",
    "x= torch.rand(10)\n",
    "value = GELU(x)\n",
    "\n",
    "print(x)\n",
    "print(value)"
   ]
  },
  {
   "cell_type": "code",
   "execution_count": 9,
   "metadata": {},
   "outputs": [],
   "source": [
    "import numpy as np\n",
    "import matplotlib.pyplot as plt\n",
    "from scipy.special import erf"
   ]
  },
  {
   "cell_type": "code",
   "execution_count": 20,
   "metadata": {},
   "outputs": [
    {
     "name": "stdout",
     "output_type": "stream",
     "text": [
      "erf(0.5): 0.5204998778130465\n",
      "erf(1): 0.8427007929497148\n",
      "erf(-1): -0.8427007929497148\n",
      "erf(6): 1.0\n"
     ]
    }
   ],
   "source": [
    "# 计算 erf(0.5)\n",
    "result = erf(0.5)\n",
    "print(\"erf(0.5):\", result)\n",
    "\n",
    "# 计算 erf(1)\n",
    "result = erf(1)\n",
    "print(\"erf(1):\", result)\n",
    "\n",
    "# 计算负数的 erf\n",
    "result = erf(-1)\n",
    "print(\"erf(-1):\", result)\n",
    "\n",
    "\n",
    "result = erf(6)\n",
    "print(\"erf(6):\", result)"
   ]
  },
  {
   "cell_type": "code",
   "execution_count": null,
   "metadata": {},
   "outputs": [],
   "source": []
  },
  {
   "cell_type": "code",
   "execution_count": 21,
   "metadata": {},
   "outputs": [],
   "source": [
    "import numpy as np\n",
    "import matplotlib.pyplot as plt\n",
    "from scipy.special import erf\n",
    "\n",
    "def gelu(x):\n",
    "    return 0.5 * x * (1 + erf(x/np.sqrt(2)))\n",
    "\n",
    "def gelu_activation(x):\n",
    "    \"\"\"glelu 一次求导\n",
    "    \"\"\"\n",
    "    return 0.5 * (1 + erf(x/np.sqrt(2))) + x / np.sqrt(2 * np.pi) * np.exp(-x ** 2/2)"
   ]
  },
  {
   "cell_type": "code",
   "execution_count": 25,
   "metadata": {},
   "outputs": [
    {
     "name": "stdout",
     "output_type": "stream",
     "text": [
      "erf(0.5): 0.5204998778130465\n",
      "0.3457312306370065\n",
      "0.8674951246561627\n"
     ]
    }
   ],
   "source": [
    "result = erf(0.5)\n",
    "print(\"erf(0.5):\", result)\n",
    "\n",
    "print(gelu(0.5))\n",
    "print(gelu_activation(0.5))"
   ]
  },
  {
   "cell_type": "code",
   "execution_count": null,
   "metadata": {},
   "outputs": [],
   "source": []
  }
 ],
 "metadata": {
  "kernelspec": {
   "display_name": "torchv01",
   "language": "python",
   "name": "python3"
  },
  "language_info": {
   "codemirror_mode": {
    "name": "ipython",
    "version": 3
   },
   "file_extension": ".py",
   "mimetype": "text/x-python",
   "name": "python",
   "nbconvert_exporter": "python",
   "pygments_lexer": "ipython3",
   "version": "3.10.13"
  }
 },
 "nbformat": 4,
 "nbformat_minor": 2
}
