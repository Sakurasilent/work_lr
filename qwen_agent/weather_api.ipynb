{
 "cells": [
  {
   "cell_type": "markdown",
   "metadata": {},
   "source": [
    "### 天气api测试\n",
    "https://home.openweathermap.org/api_keys\n",
    "\n",
    "\n"
   ]
  },
  {
   "cell_type": "code",
   "execution_count": 4,
   "metadata": {},
   "outputs": [
    {
     "name": "stdout",
     "output_type": "stream",
     "text": [
      "Failed to fetch weather data.\n"
     ]
    },
    {
     "data": {
      "text/plain": [
       "{'cod': 401,\n",
       " 'message': 'Invalid API key. Please see https://openweathermap.org/faq#error401 for more info.'}"
      ]
     },
     "execution_count": 4,
     "metadata": {},
     "output_type": "execute_result"
    }
   ],
   "source": [
    "import requests\n",
    "import json\n",
    " \n",
    "def get_weather(city_name):\n",
    "    api_key = \"\"  # 替换为你自己的API Key\n",
    "    base_url = \"http://api.openweathermap.org/data/2.5/weather\"\n",
    " \n",
    "    # 构建请求参数\n",
    "    params = {\n",
    "        \"q\": city_name if '市' in city_name else city_name+\"市\" , # 城市名\n",
    "        \"appid\": api_key,       # API Key\n",
    "        \"units\": \"metric\"       # 温度单位为摄氏度\n",
    "    }\n",
    " \n",
    "    # 发送GET请求获取天气数据\n",
    "    response = requests.get(base_url, params=params)\n",
    "    data = json.loads(response.text)\n",
    "    # 解析返回的JSON数据\n",
    "    if data[\"cod\"] == 200:\n",
    "        weather = data[\"weather\"][0][\"main\"]           # 天气情况\n",
    "        description = data[\"weather\"][0][\"description\"] # 天气描述\n",
    "        temperature = data[\"main\"][\"temp\"]              # 温度\n",
    "        humidity = data[\"main\"][\"humidity\"]             # 湿度\n",
    "        wind_speed = data[\"wind\"][\"speed\"]              # 风速\n",
    " \n",
    "    else:\n",
    "        print(\"Failed to fetch weather data.\")\n",
    "    return data\n",
    "get_weather(\"北京市\")"
   ]
  },
  {
   "cell_type": "markdown",
   "metadata": {},
   "source": [
    "### 高德api测试"
   ]
  },
  {
   "cell_type": "code",
   "execution_count": 1,
   "metadata": {},
   "outputs": [
    {
     "data": {
      "text/html": [
       "<div>\n",
       "<style scoped>\n",
       "    .dataframe tbody tr th:only-of-type {\n",
       "        vertical-align: middle;\n",
       "    }\n",
       "\n",
       "    .dataframe tbody tr th {\n",
       "        vertical-align: top;\n",
       "    }\n",
       "\n",
       "    .dataframe thead th {\n",
       "        text-align: right;\n",
       "    }\n",
       "</style>\n",
       "<table border=\"1\" class=\"dataframe\">\n",
       "  <thead>\n",
       "    <tr style=\"text-align: right;\">\n",
       "      <th></th>\n",
       "      <th>中文名</th>\n",
       "      <th>adcode</th>\n",
       "      <th>citycode</th>\n",
       "    </tr>\n",
       "  </thead>\n",
       "  <tbody>\n",
       "    <tr>\n",
       "      <th>0</th>\n",
       "      <td>中华人民共和国</td>\n",
       "      <td>0</td>\n",
       "      <td>NaN</td>\n",
       "    </tr>\n",
       "    <tr>\n",
       "      <th>1</th>\n",
       "      <td>北京市</td>\n",
       "      <td>110000</td>\n",
       "      <td>10.0</td>\n",
       "    </tr>\n",
       "    <tr>\n",
       "      <th>2</th>\n",
       "      <td>东城区</td>\n",
       "      <td>110101</td>\n",
       "      <td>10.0</td>\n",
       "    </tr>\n",
       "    <tr>\n",
       "      <th>3</th>\n",
       "      <td>西城区</td>\n",
       "      <td>110102</td>\n",
       "      <td>10.0</td>\n",
       "    </tr>\n",
       "    <tr>\n",
       "      <th>4</th>\n",
       "      <td>朝阳区</td>\n",
       "      <td>110105</td>\n",
       "      <td>10.0</td>\n",
       "    </tr>\n",
       "  </tbody>\n",
       "</table>\n",
       "</div>"
      ],
      "text/plain": [
       "       中文名  adcode  citycode\n",
       "0  中华人民共和国       0       NaN\n",
       "1      北京市  110000      10.0\n",
       "2      东城区  110101      10.0\n",
       "3      西城区  110102      10.0\n",
       "4      朝阳区  110105      10.0"
      ]
     },
     "execution_count": 1,
     "metadata": {},
     "output_type": "execute_result"
    }
   ],
   "source": [
    "import pandas as pd\n",
    "city_df = pd.read_excel('https://modelscope.oss-cn-beijing.aliyuncs.com/resource/agent/AMap_adcode_citycode.xlsx') # 读取成功需要在qwen-agent的环境下\n",
    "city_df.head()"
   ]
  },
  {
   "cell_type": "code",
   "execution_count": 2,
   "metadata": {},
   "outputs": [],
   "source": [
    "token = \"\"\n",
    "url = 'https://restapi.amap.com/v3/weather/weatherInfo?city={city}&key={key}'\n"
   ]
  },
  {
   "cell_type": "code",
   "execution_count": 31,
   "metadata": {},
   "outputs": [
    {
     "data": {
      "text/plain": [
       "np.int64(420100)"
      ]
     },
     "execution_count": 31,
     "metadata": {},
     "output_type": "execute_result"
    }
   ],
   "source": [
    "def get_city_adcode(city_name):\n",
    "        filtered_df = city_df[city_df['中文名'] == city_name]\n",
    "        if len(filtered_df['adcode'].values) == 0:\n",
    "            raise ValueError(f'location {city_name} not found, availables are {city_df[\"中文名\"]}')\n",
    "        else:\n",
    "            return filtered_df['adcode'].values[0]\n",
    "get_city_adcode(\"武汉市\")"
   ]
  },
  {
   "cell_type": "code",
   "execution_count": 30,
   "metadata": {},
   "outputs": [
    {
     "data": {
      "text/plain": [
       "np.int64(110105)"
      ]
     },
     "execution_count": 30,
     "metadata": {},
     "output_type": "execute_result"
    }
   ],
   "source": [
    "get_city_adcode(\"朝阳区\")"
   ]
  },
  {
   "cell_type": "code",
   "execution_count": 18,
   "metadata": {},
   "outputs": [
    {
     "data": {
      "text/plain": [
       "'https://restapi.amap.com/v3/weather/weatherInfo?city=110105&key=812f1c50ed0cbc0fa79c5ddcf7e2b0ec'"
      ]
     },
     "execution_count": 18,
     "metadata": {},
     "output_type": "execute_result"
    }
   ],
   "source": [
    "url.format(city=get_city_adcode(\"朝阳区\"),key=token)"
   ]
  },
  {
   "cell_type": "code",
   "execution_count": 32,
   "metadata": {},
   "outputs": [],
   "source": [
    "import requests\n",
    "# location=420100\n",
    "response = requests.get(url.format(city=get_city_adcode(\"朝阳区\"),key=token))"
   ]
  },
  {
   "cell_type": "code",
   "execution_count": 21,
   "metadata": {},
   "outputs": [
    {
     "data": {
      "text/plain": [
       "{'status': '1',\n",
       " 'count': '1',\n",
       " 'info': 'OK',\n",
       " 'infocode': '10000',\n",
       " 'lives': [{'province': '北京',\n",
       "   'city': '朝阳区',\n",
       "   'adcode': '110105',\n",
       "   'weather': '多云',\n",
       "   'temperature': '29',\n",
       "   'winddirection': '南',\n",
       "   'windpower': '≤3',\n",
       "   'humidity': '56',\n",
       "   'reporttime': '2024-07-04 15:03:03',\n",
       "   'temperature_float': '29.0',\n",
       "   'humidity_float': '56.0'}]}"
      ]
     },
     "execution_count": 21,
     "metadata": {},
     "output_type": "execute_result"
    }
   ],
   "source": [
    "response.json()"
   ]
  },
  {
   "cell_type": "code",
   "execution_count": 22,
   "metadata": {},
   "outputs": [],
   "source": [
    "def call( params ) -> str:\n",
    "        location = params['location']\n",
    "        response = requests.get(url.format(city=get_city_adcode(location), key=token))\n",
    "        data = response.json()\n",
    "        if data['status'] == '0':\n",
    "            raise RuntimeError(data)\n",
    "        else:\n",
    "            weather = data['lives'][0]['weather']\n",
    "            temperature = data['lives'][0]['temperature']\n",
    "            return f'{location}的天气是{weather}温度是{temperature}度。'"
   ]
  },
  {
   "cell_type": "code",
   "execution_count": 29,
   "metadata": {},
   "outputs": [
    {
     "data": {
      "text/plain": [
       "'深圳市的天气是阴温度是26度。'"
      ]
     },
     "execution_count": 29,
     "metadata": {},
     "output_type": "execute_result"
    }
   ],
   "source": [
    "call({\"location\":\"深圳市\"})\n"
   ]
  },
  {
   "cell_type": "code",
   "execution_count": null,
   "metadata": {},
   "outputs": [],
   "source": []
  },
  {
   "cell_type": "code",
   "execution_count": null,
   "metadata": {},
   "outputs": [],
   "source": []
  }
 ],
 "metadata": {
  "kernelspec": {
   "display_name": "torchv01",
   "language": "python",
   "name": "python3"
  },
  "language_info": {
   "codemirror_mode": {
    "name": "ipython",
    "version": 3
   },
   "file_extension": ".py",
   "mimetype": "text/x-python",
   "name": "python",
   "nbconvert_exporter": "python",
   "pygments_lexer": "ipython3",
   "version": "3.10.14"
  }
 },
 "nbformat": 4,
 "nbformat_minor": 2
}
