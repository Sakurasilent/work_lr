{
 "cells": [
  {
   "metadata": {},
   "cell_type": "markdown",
   "source": [
    "### else 会在 for循环正常结束后执行， \n",
    "\n",
    "类似一个判断 在for循环中有判断条件，如果满足for循环提前推出,\n",
    "不然就会走到else中"
   ],
   "id": "57c41d1001165758"
  },
  {
   "cell_type": "code",
   "id": "initial_id",
   "metadata": {
    "collapsed": true,
    "ExecuteTime": {
     "end_time": "2024-08-31T08:04:43.411680Z",
     "start_time": "2024-08-31T08:04:43.404898Z"
    }
   },
   "source": [
    "# 示例：在列表中查找一个元素\n",
    "elements = [1, 2, 3, 4, 5]\n",
    "target = 4\n",
    "found = False\n",
    "\n",
    "for element in elements:\n",
    "    if element == target:\n",
    "        print(f\"找到目标元素: {element}\")\n",
    "        found = True\n",
    "        break\n",
    "else:\n",
    "    # 如果没有找到元素，并且没有提前退出循环（没有执行break）\n",
    "    print(\"没有找到目标元素。\")\n",
    "\n",
    "# 输出结果会取决于target是否在elements列表中\n"
   ],
   "outputs": [
    {
     "name": "stdout",
     "output_type": "stream",
     "text": [
      "找到目标元素: 4\n"
     ]
    }
   ],
   "execution_count": 4
  },
  {
   "metadata": {},
   "cell_type": "code",
   "outputs": [],
   "execution_count": null,
   "source": "",
   "id": "1e13814c00b3f7e5"
  }
 ],
 "metadata": {
  "kernelspec": {
   "display_name": "Python 3",
   "language": "python",
   "name": "python3"
  },
  "language_info": {
   "codemirror_mode": {
    "name": "ipython",
    "version": 2
   },
   "file_extension": ".py",
   "mimetype": "text/x-python",
   "name": "python",
   "nbconvert_exporter": "python",
   "pygments_lexer": "ipython2",
   "version": "2.7.6"
  }
 },
 "nbformat": 4,
 "nbformat_minor": 5
}
