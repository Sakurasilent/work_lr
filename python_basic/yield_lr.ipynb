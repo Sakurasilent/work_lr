{
 "cells": [
  {
   "cell_type": "markdown",
   "metadata": {},
   "source": [
    "yield 是 Python 中的一个关键字，用于定义生成器函数。生成器函数在执行时不会一次性返回所有值，而是每次调用时返回一个值，并在函数内的当前位置暂停执行，等待下一次调用再继续执行。\n",
    "所以流式输出一般会使用yield进行"
   ]
  },
  {
   "cell_type": "code",
   "execution_count": 1,
   "metadata": {},
   "outputs": [
    {
     "name": "stdout",
     "output_type": "stream",
     "text": [
      "0\n",
      "1\n",
      "2\n",
      "3\n",
      "4\n"
     ]
    }
   ],
   "source": [
    "def simple_generator(n):\n",
    "    for i in range(n):\n",
    "        yield i\n",
    "\n",
    "# 使用生成器\n",
    "for value in simple_generator(5):\n",
    "    print(value)\n"
   ]
  },
  {
   "cell_type": "markdown",
   "metadata": {},
   "source": [
    "yield from\n",
    "让生成器来自另一个生成器"
   ]
  },
  {
   "cell_type": "code",
   "execution_count": 4,
   "metadata": {},
   "outputs": [
    {
     "name": "stdout",
     "output_type": "stream",
     "text": [
      "10\n",
      "11\n",
      "12\n",
      "4\n",
      "5\n"
     ]
    }
   ],
   "source": [
    "# def sub_generator():\n",
    "#     yield 1\n",
    "#     yield 2\n",
    "#     yield 3\n",
    "\n",
    "def sub_generator():\n",
    "    for i in range(10,13):\n",
    "        yield i\n",
    "def main_generator():\n",
    "    yield from sub_generator()\n",
    "    yield 4\n",
    "    yield 5\n",
    "\n",
    "for value in main_generator():\n",
    "    print(value)\n"
   ]
  },
  {
   "cell_type": "code",
   "execution_count": null,
   "metadata": {},
   "outputs": [],
   "source": []
  }
 ],
 "metadata": {
  "kernelspec": {
   "display_name": "torchv01",
   "language": "python",
   "name": "python3"
  },
  "language_info": {
   "codemirror_mode": {
    "name": "ipython",
    "version": 3
   },
   "file_extension": ".py",
   "mimetype": "text/x-python",
   "name": "python",
   "nbconvert_exporter": "python",
   "pygments_lexer": "ipython3",
   "version": "3.10.13"
  }
 },
 "nbformat": 4,
 "nbformat_minor": 2
}
