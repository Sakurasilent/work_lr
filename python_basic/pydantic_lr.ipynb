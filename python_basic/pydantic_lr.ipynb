{
 "cells": [
  {
   "metadata": {},
   "cell_type": "markdown",
   "source": [
    "BaseModel 是 Python 中 pydantic 库的核心功能之一。pydantic 是一个数据验证和设置管理的库，主要用于创建数据的严格类型模型，并确保数据在应用程序中以正确的格式流动。使用 BaseModel 可以帮助你确保数据对象符合预定义的模式，减少运行时错误。\n",
    "\n",
    "基本特性\n",
    "强类型支持：你需要在模型中定义每个字段的类型，pydantic 会自动进行类型校验和类型转换。\n",
    "数据验证：在赋值时自动进行，如果数据不符合预期，会抛出错误。\n",
    "简单的错误处理：当数据不符合定义的模式时，可以捕获详细的错误信息，方便调试和错误排查。\n",
    "默认值与可选字段：可以为模型字段提供默认值或将其设置为可选，从而使得某些字段在未提供数据时不会引发错误。\n",
    "JSON支持：BaseModel 提供了从 JSON 字符串创建模型实例的方法，以及将模型实例序列化为 JSON 字符串的方法。\n"
   ],
   "id": "de06dcbb980fe205"
  },
  {
   "cell_type": "code",
   "id": "initial_id",
   "metadata": {
    "collapsed": true,
    "ExecuteTime": {
     "end_time": "2024-07-29T09:28:30.902489Z",
     "start_time": "2024-07-29T09:28:30.856238Z"
    }
   },
   "source": "from pydantic import BaseModel",
   "outputs": [],
   "execution_count": 2
  },
  {
   "metadata": {
    "ExecuteTime": {
     "end_time": "2024-07-29T09:29:20.169430Z",
     "start_time": "2024-07-29T09:29:20.042455Z"
    }
   },
   "cell_type": "code",
   "source": [
    "class User(BaseModel):\n",
    "    id: int\n",
    "    name: str\n",
    "    age: int = 21  # 设置默认值"
   ],
   "id": "99c02769b580ab3e",
   "outputs": [],
   "execution_count": 3
  },
  {
   "metadata": {
    "ExecuteTime": {
     "end_time": "2024-07-29T09:29:37.446677Z",
     "start_time": "2024-07-29T09:29:37.430239Z"
    }
   },
   "cell_type": "code",
   "source": "user = User(id=123,name=\"test\")",
   "id": "bedd5a542407dc76",
   "outputs": [],
   "execution_count": 4
  },
  {
   "metadata": {
    "ExecuteTime": {
     "end_time": "2024-07-29T09:29:46.856358Z",
     "start_time": "2024-07-29T09:29:46.852269Z"
    }
   },
   "cell_type": "code",
   "source": "print(user.id, user.name, user.age)",
   "id": "553c32fe142809bc",
   "outputs": [
    {
     "name": "stdout",
     "output_type": "stream",
     "text": [
      "123 test 21\n"
     ]
    }
   ],
   "execution_count": 5
  },
  {
   "metadata": {
    "ExecuteTime": {
     "end_time": "2024-07-29T09:29:53.466714Z",
     "start_time": "2024-07-29T09:29:53.460043Z"
    }
   },
   "cell_type": "code",
   "source": "print(user.json())",
   "id": "1b82d11b29db2bcd",
   "outputs": [
    {
     "name": "stdout",
     "output_type": "stream",
     "text": [
      "{\"id\":123,\"name\":\"test\",\"age\":21}\n"
     ]
    },
    {
     "name": "stderr",
     "output_type": "stream",
     "text": [
      "/var/folders/rb/p25lfy554_5fksxqmtgbgs4w0000gn/T/ipykernel_83469/1092012798.py:1: PydanticDeprecatedSince20: The `json` method is deprecated; use `model_dump_json` instead. Deprecated in Pydantic V2.0 to be removed in V3.0. See Pydantic V2 Migration Guide at https://errors.pydantic.dev/2.5/migration/\n",
      "  print(user.json())\n"
     ]
    }
   ],
   "execution_count": 6
  },
  {
   "metadata": {
    "ExecuteTime": {
     "end_time": "2024-07-29T09:30:06.144890Z",
     "start_time": "2024-07-29T09:30:06.140636Z"
    }
   },
   "cell_type": "code",
   "source": [
    "try:\n",
    "    User(id=\"123\", name=2)\n",
    "except Exception as e:\n",
    "    print(e)"
   ],
   "id": "5856bd0f7835eec1",
   "outputs": [
    {
     "name": "stdout",
     "output_type": "stream",
     "text": [
      "1 validation error for User\n",
      "name\n",
      "  Input should be a valid string [type=string_type, input_value=2, input_type=int]\n",
      "    For further information visit https://errors.pydantic.dev/2.5/v/string_type\n"
     ]
    }
   ],
   "execution_count": 7
  },
  {
   "metadata": {},
   "cell_type": "code",
   "outputs": [],
   "execution_count": null,
   "source": "",
   "id": "6f4439b98d591b30"
  }
 ],
 "metadata": {
  "kernelspec": {
   "display_name": "Python 3",
   "language": "python",
   "name": "python3"
  },
  "language_info": {
   "codemirror_mode": {
    "name": "ipython",
    "version": 2
   },
   "file_extension": ".py",
   "mimetype": "text/x-python",
   "name": "python",
   "nbconvert_exporter": "python",
   "pygments_lexer": "ipython2",
   "version": "2.7.6"
  }
 },
 "nbformat": 4,
 "nbformat_minor": 5
}
