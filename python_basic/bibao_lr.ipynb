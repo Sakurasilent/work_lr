{
 "cells": [
  {
   "cell_type": "code",
   "execution_count": 1,
   "metadata": {},
   "outputs": [
    {
     "name": "stdout",
     "output_type": "stream",
     "text": [
      "Hello\n"
     ]
    }
   ],
   "source": [
    "def print_msg(msg):\n",
    "# 这是外部封闭函数\n",
    "\n",
    "    def printer():\n",
    "# 这是嵌套函数\n",
    "        print(msg)\n",
    "\n",
    "    printer()\n",
    "\n",
    "# 我们执行这个函数\n",
    "# 输出: Hello\n",
    "print_msg(\"Hello\")"
   ]
  },
  {
   "cell_type": "code",
   "execution_count": 2,
   "metadata": {},
   "outputs": [
    {
     "name": "stdout",
     "output_type": "stream",
     "text": [
      "Hello\n"
     ]
    }
   ],
   "source": [
    "def print_msg(msg):\n",
    "# 这是外部封闭函数\n",
    "\n",
    "    def printer():\n",
    "# 这是嵌套函数\n",
    "        print(msg)\n",
    "\n",
    "    return printer  # 这变了\n",
    "\n",
    "# 现在，让我们尝试调用此函数。\n",
    "# 输出: Hello\n",
    "another = print_msg(\"Hello\")\n",
    "another()"
   ]
  },
  {
   "cell_type": "code",
   "execution_count": 4,
   "metadata": {},
   "outputs": [
    {
     "name": "stdout",
     "output_type": "stream",
     "text": [
      "27\n",
      "27\n",
      "15\n",
      "30\n"
     ]
    }
   ],
   "source": [
    "def make_multiplier_of(n):\n",
    "    def multiplier(x):\n",
    "        return x * n\n",
    "    return multiplier\n",
    "\n",
    "# 3的乘数\n",
    "times3 = make_multiplier_of(3)\n",
    "\n",
    "# 5的乘数\n",
    "times5 = make_multiplier_of(5)\n",
    "\n",
    "# 输出: 27\n",
    "print(times3(9))\n",
    "\n",
    "print(times3(9))\n",
    "# 输出: 15\n",
    "print(times5(3))\n",
    "\n",
    "# 输出: 30\n",
    "print(times5(times3(2)))"
   ]
  },
  {
   "cell_type": "code",
   "execution_count": null,
   "metadata": {},
   "outputs": [],
   "source": []
  }
 ],
 "metadata": {
  "kernelspec": {
   "display_name": "torchv01",
   "language": "python",
   "name": "python3"
  },
  "language_info": {
   "codemirror_mode": {
    "name": "ipython",
    "version": 3
   },
   "file_extension": ".py",
   "mimetype": "text/x-python",
   "name": "python",
   "nbconvert_exporter": "python",
   "pygments_lexer": "ipython3",
   "version": "3.10.13"
  }
 },
 "nbformat": 4,
 "nbformat_minor": 2
}
